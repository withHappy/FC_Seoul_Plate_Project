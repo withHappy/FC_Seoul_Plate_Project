{
 "cells": [
  {
   "cell_type": "code",
   "execution_count": 194,
   "metadata": {},
   "outputs": [],
   "source": [
    "import requests\n",
    "from bs4 import BeautifulSoup\n",
    "from selenium import webdriver"
   ]
  },
  {
   "cell_type": "code",
   "execution_count": 195,
   "metadata": {},
   "outputs": [],
   "source": [
    "headers = {\n",
    "        'User-Agent': 'Mozilla/5.0 (Macintosh; Intel Mac OS X 10_15_5) AppleWebKit/537.36 (KHTML, like Gecko) Chrome/83.0.4103.106 Safari/537.36'\n",
    "    }\n",
    "url = 'https://www.mangoplate.com/restaurants/3skXmp2VagDu'\n",
    "html = requests.get(url, headers=headers).text\n",
    "soup = BeautifulSoup(html, 'html.parser')"
   ]
  },
  {
   "cell_type": "code",
   "execution_count": 196,
   "metadata": {},
   "outputs": [
    {
     "name": "stdout",
     "output_type": "stream",
     "text": [
      "엔소쿠365\n"
     ]
    }
   ],
   "source": [
    "name = soup.find(class_='restaurant_name').text.strip().replace('\\n','')\n",
    "print(name)"
   ]
  },
  {
   "cell_type": "code",
   "execution_count": 197,
   "metadata": {},
   "outputs": [
    {
     "ename": "AttributeError",
     "evalue": "'NoneType' object has no attribute 'text'",
     "output_type": "error",
     "traceback": [
      "\u001b[0;31m---------------------------------------------------------------------------\u001b[0m",
      "\u001b[0;31mAttributeError\u001b[0m                            Traceback (most recent call last)",
      "\u001b[0;32m<ipython-input-197-423714794c4f>\u001b[0m in \u001b[0;36m<module>\u001b[0;34m\u001b[0m\n\u001b[0;32m----> 1\u001b[0;31m \u001b[0mstar\u001b[0m \u001b[0;34m=\u001b[0m \u001b[0msoup\u001b[0m\u001b[0;34m.\u001b[0m\u001b[0mfind\u001b[0m\u001b[0;34m(\u001b[0m\u001b[0mclass_\u001b[0m\u001b[0;34m=\u001b[0m\u001b[0;34m'rate-point'\u001b[0m\u001b[0;34m)\u001b[0m\u001b[0;34m.\u001b[0m\u001b[0mtext\u001b[0m\u001b[0;34m.\u001b[0m\u001b[0mstrip\u001b[0m\u001b[0;34m(\u001b[0m\u001b[0;34m)\u001b[0m\u001b[0;34m.\u001b[0m\u001b[0mreplace\u001b[0m\u001b[0;34m(\u001b[0m\u001b[0;34m'\\n'\u001b[0m\u001b[0;34m,\u001b[0m\u001b[0;34m''\u001b[0m\u001b[0;34m)\u001b[0m\u001b[0;34m\u001b[0m\u001b[0;34m\u001b[0m\u001b[0m\n\u001b[0m\u001b[1;32m      2\u001b[0m \u001b[0mprint\u001b[0m\u001b[0;34m(\u001b[0m\u001b[0mstar\u001b[0m\u001b[0;34m)\u001b[0m\u001b[0;34m\u001b[0m\u001b[0;34m\u001b[0m\u001b[0m\n",
      "\u001b[0;31mAttributeError\u001b[0m: 'NoneType' object has no attribute 'text'"
     ]
    }
   ],
   "source": [
    "star = soup.find(class_='rate-point').text.strip().replace('\\n','')\n",
    "print(star)"
   ]
  },
  {
   "cell_type": "code",
   "execution_count": 198,
   "metadata": {
    "scrolled": true
   },
   "outputs": [
    {
     "name": "stdout",
     "output_type": "stream",
     "text": [
      "주소\n",
      "---------\n",
      "전화번호\n",
      "---------\n",
      "음식 종류\n",
      "---------\n",
      "가격대\n",
      "---------\n",
      "주차\n",
      "---------\n",
      "영업시간\n",
      "---------\n",
      "쉬는시간\n",
      "---------\n",
      "웹 사이트\n",
      "---------\n",
      "8\n",
      "key: 서울특별시 성동구 뚝섬로5길 11\n",
      "지번\n",
      "서울시 성동구 성수동1가 33-5\n",
      ", value:주소\n",
      "key: 02-6339-4651, value:전화번호\n",
      "key: \n",
      "돈부리 / 일본 카레 / 벤토\n",
      ", value:음식 종류\n",
      "key: 만원 미만, value:가격대\n",
      "key: 주차공간없음 , value:주차\n",
      "key: 11:00 - 21:00, value:영업시간\n",
      "key: 15:30 - 17:00, value:쉬는시간\n",
      "key: \n",
      "\n",
      "                      식당 홈페이지로 가기\n",
      "                    \n",
      ", value:웹 사이트\n"
     ]
    }
   ],
   "source": [
    "a = soup.find('tbody')\n",
    "b = a.find_all('td')\n",
    "c = a.find_all('th')\n",
    "for i in c:\n",
    "    print(i.text.strip().replace('\\n', ' '))\n",
    "    print('---------')\n",
    "    \n",
    "print(len(c))\n",
    "\n",
    "for k, v in zip(b, c):\n",
    "    print(f\"key: {k.text}, value:{v.text}\")"
   ]
  },
  {
   "cell_type": "code",
   "execution_count": 204,
   "metadata": {
    "scrolled": true
   },
   "outputs": [
    {
     "name": "stdout",
     "output_type": "stream",
     "text": [
      "주소 서울특별시 성동구 뚝섬로5길 11지번서울시 성동구 성수동1가 33-5\n",
      "전화번호 02-6339-4651\n",
      "음식 종류 돈부리 / 일본 카레 / 벤토\n",
      "가격대 만원 미만\n",
      "주차 주차공간없음\n",
      "영업시간 11:00 - 21:00\n",
      "쉬는시간 15:30 - 17:00\n",
      "웹 사이트 식당 홈페이지로 가기\n",
      "서울특별시 성동구 뚝섬로5길 11지번서울시 성동구 성수동1가 33-5\n",
      "돈부리 / 일본 카레 / 벤토\n",
      "02-6339-4651\n",
      "서울특별시 성동구 뚝섬로5길 11지번서울시 성동구 성수동1가 33-5\n",
      "서울특별시 성동구 뚝섬로5길 11지번서울시 성동구 성수동1가 33-5\n",
      "서울특별시 성동구 뚝섬로5길 11지번서울시 성동구 성수동1가 33-5\n"
     ]
    }
   ],
   "source": [
    "source = soup.find('tbody')\n",
    "name = source.find_all('td')\n",
    "value = source.find_all('th')\n",
    "\n",
    "for value, key in zip(name, value):\n",
    "    key = key.text.strip().replace('\\n', '')\n",
    "    value = value.text.strip().replace('\\n', '')\n",
    "    if key == '주소':\n",
    "        rest_address = value\n",
    "    elif key == '음식 종류':\n",
    "        rest_food = value\n",
    "    elif key == '전화번호':\n",
    "        rest_phone_number = value\n",
    "    elif key == '가격대':\n",
    "        rest_sale = value\n",
    "    elif key == '영업시간':\n",
    "        rest_time = value\n",
    "    elif key == '쉬는시간':\n",
    "        rest_break_time = value\n",
    "    print(key, value)\n",
    "\n",
    "print(rest_address)\n",
    "print(rest_food)\n",
    "print(rest_phone_number)\n",
    "print(rest_address)\n",
    "print(rest_address)\n",
    "print(rest_address)"
   ]
  },
  {
   "cell_type": "code",
   "execution_count": null,
   "metadata": {},
   "outputs": [],
   "source": []
  },
  {
   "cell_type": "code",
   "execution_count": null,
   "metadata": {},
   "outputs": [],
   "source": []
  },
  {
   "cell_type": "code",
   "execution_count": null,
   "metadata": {},
   "outputs": [],
   "source": []
  },
  {
   "cell_type": "code",
   "execution_count": null,
   "metadata": {},
   "outputs": [],
   "source": []
  },
  {
   "cell_type": "code",
   "execution_count": null,
   "metadata": {},
   "outputs": [],
   "source": []
  },
  {
   "cell_type": "code",
   "execution_count": null,
   "metadata": {},
   "outputs": [],
   "source": []
  },
  {
   "cell_type": "code",
   "execution_count": null,
   "metadata": {},
   "outputs": [],
   "source": []
  },
  {
   "cell_type": "code",
   "execution_count": null,
   "metadata": {},
   "outputs": [],
   "source": []
  }
 ],
 "metadata": {
  "kernelspec": {
   "display_name": "Python 3",
   "language": "python",
   "name": "python3"
  },
  "language_info": {
   "codemirror_mode": {
    "name": "ipython",
    "version": 3
   },
   "file_extension": ".py",
   "mimetype": "text/x-python",
   "name": "python",
   "nbconvert_exporter": "python",
   "pygments_lexer": "ipython3",
   "version": "3.8.2"
  }
 },
 "nbformat": 4,
 "nbformat_minor": 4
}
